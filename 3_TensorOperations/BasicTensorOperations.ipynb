{
  "nbformat": 4,
  "nbformat_minor": 0,
  "metadata": {
    "colab": {
      "provenance": []
    },
    "kernelspec": {
      "name": "python3",
      "display_name": "Python 3"
    },
    "language_info": {
      "name": "python"
    },
    "widgets": {
      "application/vnd.jupyter.widget-state+json": {
        "d3c9caddb61147a683ed2799841068d2": {
          "model_module": "@jupyter-widgets/controls",
          "model_name": "VBoxModel",
          "model_module_version": "1.5.0",
          "state": {
            "_dom_classes": [
              "widget-interact"
            ],
            "_model_module": "@jupyter-widgets/controls",
            "_model_module_version": "1.5.0",
            "_model_name": "VBoxModel",
            "_view_count": null,
            "_view_module": "@jupyter-widgets/controls",
            "_view_module_version": "1.5.0",
            "_view_name": "VBoxView",
            "box_style": "",
            "children": [
              "IPY_MODEL_7666028607854132bc50406a387cb3f6",
              "IPY_MODEL_97258d7c32d942d88b31862363ac3578"
            ],
            "layout": "IPY_MODEL_06a336e2e1734a6cbc5e681ad85f254e"
          }
        },
        "7666028607854132bc50406a387cb3f6": {
          "model_module": "@jupyter-widgets/controls",
          "model_name": "TextModel",
          "model_module_version": "1.5.0",
          "state": {
            "_dom_classes": [],
            "_model_module": "@jupyter-widgets/controls",
            "_model_module_version": "1.5.0",
            "_model_name": "TextModel",
            "_view_count": null,
            "_view_module": "@jupyter-widgets/controls",
            "_view_module_version": "1.5.0",
            "_view_name": "TextView",
            "continuous_update": false,
            "description": "New Shape:",
            "description_tooltip": null,
            "disabled": false,
            "layout": "IPY_MODEL_3679a9ea7b84458fb3de677bf8dc7ee6",
            "placeholder": "​",
            "style": "IPY_MODEL_7e9f92bc371640a88bfd0caa04e9720a",
            "value": "3,2"
          }
        },
        "97258d7c32d942d88b31862363ac3578": {
          "model_module": "@jupyter-widgets/output",
          "model_name": "OutputModel",
          "model_module_version": "1.0.0",
          "state": {
            "_dom_classes": [],
            "_model_module": "@jupyter-widgets/output",
            "_model_module_version": "1.0.0",
            "_model_name": "OutputModel",
            "_view_count": null,
            "_view_module": "@jupyter-widgets/output",
            "_view_module_version": "1.0.0",
            "_view_name": "OutputView",
            "layout": "IPY_MODEL_66f0cfefb0c140519a80e25d15f5134d",
            "msg_id": "",
            "outputs": [
              {
                "output_type": "stream",
                "name": "stdout",
                "text": [
                  "New Shape: [[1 2]\n",
                  " [3 4]\n",
                  " [5 6]]\n"
                ]
              }
            ]
          }
        },
        "06a336e2e1734a6cbc5e681ad85f254e": {
          "model_module": "@jupyter-widgets/base",
          "model_name": "LayoutModel",
          "model_module_version": "1.2.0",
          "state": {
            "_model_module": "@jupyter-widgets/base",
            "_model_module_version": "1.2.0",
            "_model_name": "LayoutModel",
            "_view_count": null,
            "_view_module": "@jupyter-widgets/base",
            "_view_module_version": "1.2.0",
            "_view_name": "LayoutView",
            "align_content": null,
            "align_items": null,
            "align_self": null,
            "border": null,
            "bottom": null,
            "display": null,
            "flex": null,
            "flex_flow": null,
            "grid_area": null,
            "grid_auto_columns": null,
            "grid_auto_flow": null,
            "grid_auto_rows": null,
            "grid_column": null,
            "grid_gap": null,
            "grid_row": null,
            "grid_template_areas": null,
            "grid_template_columns": null,
            "grid_template_rows": null,
            "height": null,
            "justify_content": null,
            "justify_items": null,
            "left": null,
            "margin": null,
            "max_height": null,
            "max_width": null,
            "min_height": null,
            "min_width": null,
            "object_fit": null,
            "object_position": null,
            "order": null,
            "overflow": null,
            "overflow_x": null,
            "overflow_y": null,
            "padding": null,
            "right": null,
            "top": null,
            "visibility": null,
            "width": null
          }
        },
        "3679a9ea7b84458fb3de677bf8dc7ee6": {
          "model_module": "@jupyter-widgets/base",
          "model_name": "LayoutModel",
          "model_module_version": "1.2.0",
          "state": {
            "_model_module": "@jupyter-widgets/base",
            "_model_module_version": "1.2.0",
            "_model_name": "LayoutModel",
            "_view_count": null,
            "_view_module": "@jupyter-widgets/base",
            "_view_module_version": "1.2.0",
            "_view_name": "LayoutView",
            "align_content": null,
            "align_items": null,
            "align_self": null,
            "border": null,
            "bottom": null,
            "display": null,
            "flex": null,
            "flex_flow": null,
            "grid_area": null,
            "grid_auto_columns": null,
            "grid_auto_flow": null,
            "grid_auto_rows": null,
            "grid_column": null,
            "grid_gap": null,
            "grid_row": null,
            "grid_template_areas": null,
            "grid_template_columns": null,
            "grid_template_rows": null,
            "height": null,
            "justify_content": null,
            "justify_items": null,
            "left": null,
            "margin": null,
            "max_height": null,
            "max_width": null,
            "min_height": null,
            "min_width": null,
            "object_fit": null,
            "object_position": null,
            "order": null,
            "overflow": null,
            "overflow_x": null,
            "overflow_y": null,
            "padding": null,
            "right": null,
            "top": null,
            "visibility": null,
            "width": null
          }
        },
        "7e9f92bc371640a88bfd0caa04e9720a": {
          "model_module": "@jupyter-widgets/controls",
          "model_name": "DescriptionStyleModel",
          "model_module_version": "1.5.0",
          "state": {
            "_model_module": "@jupyter-widgets/controls",
            "_model_module_version": "1.5.0",
            "_model_name": "DescriptionStyleModel",
            "_view_count": null,
            "_view_module": "@jupyter-widgets/base",
            "_view_module_version": "1.2.0",
            "_view_name": "StyleView",
            "description_width": ""
          }
        },
        "66f0cfefb0c140519a80e25d15f5134d": {
          "model_module": "@jupyter-widgets/base",
          "model_name": "LayoutModel",
          "model_module_version": "1.2.0",
          "state": {
            "_model_module": "@jupyter-widgets/base",
            "_model_module_version": "1.2.0",
            "_model_name": "LayoutModel",
            "_view_count": null,
            "_view_module": "@jupyter-widgets/base",
            "_view_module_version": "1.2.0",
            "_view_name": "LayoutView",
            "align_content": null,
            "align_items": null,
            "align_self": null,
            "border": null,
            "bottom": null,
            "display": null,
            "flex": null,
            "flex_flow": null,
            "grid_area": null,
            "grid_auto_columns": null,
            "grid_auto_flow": null,
            "grid_auto_rows": null,
            "grid_column": null,
            "grid_gap": null,
            "grid_row": null,
            "grid_template_areas": null,
            "grid_template_columns": null,
            "grid_template_rows": null,
            "height": null,
            "justify_content": null,
            "justify_items": null,
            "left": null,
            "margin": null,
            "max_height": null,
            "max_width": null,
            "min_height": null,
            "min_width": null,
            "object_fit": null,
            "object_position": null,
            "order": null,
            "overflow": null,
            "overflow_x": null,
            "overflow_y": null,
            "padding": null,
            "right": null,
            "top": null,
            "visibility": null,
            "width": null
          }
        }
      }
    }
  },
  "cells": [
    {
      "cell_type": "markdown",
      "source": [
        "# Setup TensorFlow"
      ],
      "metadata": {
        "id": "bI5pUVHcjVi2"
      }
    },
    {
      "cell_type": "code",
      "execution_count": null,
      "metadata": {
        "colab": {
          "base_uri": "https://localhost:8080/"
        },
        "id": "vbYjeVSLjBTY",
        "outputId": "1010457f-c001-4c98-bbef-8234eaa409c1"
      },
      "outputs": [
        {
          "output_type": "stream",
          "name": "stdout",
          "text": [
            "TensorFlow Version: 2.18.0\n"
          ]
        }
      ],
      "source": [
        "# Install TensorFlow if needed\n",
        "!pip install tensorflow --quiet\n",
        "\n",
        "# Import TensorFlow\n",
        "import tensorflow as tf\n",
        "\n",
        "# Check TensorFlow version\n",
        "print(\"TensorFlow Version:\", tf.__version__)"
      ]
    },
    {
      "cell_type": "markdown",
      "source": [
        "# Basics: Creating Tensors\n",
        "## Scalar"
      ],
      "metadata": {
        "id": "wkvcbe0bk4bT"
      }
    },
    {
      "cell_type": "code",
      "source": [
        "# Scalar (Rank-0)\n",
        "scalar = tf.constant(42)\n",
        "print(\"Scalar:\", scalar.numpy())\n",
        "\n"
      ],
      "metadata": {
        "colab": {
          "base_uri": "https://localhost:8080/"
        },
        "id": "5GO1sUrLkg6d",
        "outputId": "7d5fff72-61dc-4ef1-8a1b-e02f29e60519"
      },
      "execution_count": null,
      "outputs": [
        {
          "output_type": "stream",
          "name": "stdout",
          "text": [
            "Scalar: 42\n"
          ]
        }
      ]
    },
    {
      "cell_type": "markdown",
      "source": [
        "## Vector"
      ],
      "metadata": {
        "id": "I6F-CGGYlL5w"
      }
    },
    {
      "cell_type": "code",
      "source": [
        "# Vector (Rank-1)\n",
        "vector = tf.constant([1, 2, 3])\n",
        "print(\"Vector:\", vector.numpy())\n",
        "\n"
      ],
      "metadata": {
        "colab": {
          "base_uri": "https://localhost:8080/"
        },
        "id": "Uc1hHLLylELn",
        "outputId": "633ab8ec-5444-479d-c056-7613a5e649a2"
      },
      "execution_count": null,
      "outputs": [
        {
          "output_type": "stream",
          "name": "stdout",
          "text": [
            "Vector: [1 2 3]\n"
          ]
        }
      ]
    },
    {
      "cell_type": "markdown",
      "source": [
        "## Matrix"
      ],
      "metadata": {
        "id": "0VzF9-YOlPw1"
      }
    },
    {
      "cell_type": "code",
      "source": [
        "# Matrix (Rank-2)\n",
        "matrix = tf.constant([[1, 2, 3], [4, 5, 6]])\n",
        "print(\"Matrix:\\n\", matrix.numpy())\n",
        "\n"
      ],
      "metadata": {
        "colab": {
          "base_uri": "https://localhost:8080/"
        },
        "id": "MRcX0tRTlF2G",
        "outputId": "40072fa3-47ce-4ee4-b9af-9f76ef2f6f36"
      },
      "execution_count": null,
      "outputs": [
        {
          "output_type": "stream",
          "name": "stdout",
          "text": [
            "Matrix:\n",
            " [[1 2 3]\n",
            " [4 5 6]]\n"
          ]
        }
      ]
    },
    {
      "cell_type": "code",
      "source": [
        "rank_2_tensor = tf.constant([[1, 2],\n",
        "                             [3, 4],\n",
        "                             [5, 6]], dtype=tf.float16)\n",
        "print(rank_2_tensor)"
      ],
      "metadata": {
        "colab": {
          "base_uri": "https://localhost:8080/"
        },
        "id": "DwKEcAuyndEq",
        "outputId": "cdd4def9-8f02-4702-cb28-2a557ef555a3"
      },
      "execution_count": null,
      "outputs": [
        {
          "output_type": "stream",
          "name": "stdout",
          "text": [
            "tf.Tensor(\n",
            "[[1. 2.]\n",
            " [3. 4.]\n",
            " [5. 6.]], shape=(3, 2), dtype=float16)\n"
          ]
        }
      ]
    },
    {
      "cell_type": "markdown",
      "source": [
        "## 3D Tensor"
      ],
      "metadata": {
        "id": "IbqpryOElTz0"
      }
    },
    {
      "cell_type": "code",
      "source": [
        "# 3D Tensor (Rank-3)\n",
        "tensor_3d = tf.constant([[[1, 2], [3, 4]], [[5, 6], [7, 8]]])\n",
        "print(\"3D Tensor:\\n\", tensor_3d.numpy())\n"
      ],
      "metadata": {
        "colab": {
          "base_uri": "https://localhost:8080/"
        },
        "id": "CT0oK3InlHOs",
        "outputId": "5881bb8c-c02d-4682-f54a-fd167b7ad0d9"
      },
      "execution_count": null,
      "outputs": [
        {
          "output_type": "stream",
          "name": "stdout",
          "text": [
            "3D Tensor:\n",
            " [[[1 2]\n",
            "  [3 4]]\n",
            "\n",
            " [[5 6]\n",
            "  [7 8]]]\n"
          ]
        }
      ]
    },
    {
      "cell_type": "code",
      "source": [
        "# There can be an arbitrary number of axes (\"dimensions\")\n",
        "rank_3_tensor = tf.constant([\n",
        "  [[0, 1, 2, 3, 4],\n",
        "   [5, 6, 7, 8, 9]],\n",
        "  [[10, 11, 12, 13, 14],\n",
        "   [15, 16, 17, 18, 19]],\n",
        "  [[20, 21, 22, 23, 24],\n",
        "   [25, 26, 27, 28, 29]],])\n",
        "\n",
        "print(rank_3_tensor)"
      ],
      "metadata": {
        "colab": {
          "base_uri": "https://localhost:8080/"
        },
        "id": "QC2-x32Pn2Ry",
        "outputId": "9b42fe26-efe4-411c-b68d-7df027872328"
      },
      "execution_count": null,
      "outputs": [
        {
          "output_type": "stream",
          "name": "stdout",
          "text": [
            "tf.Tensor(\n",
            "[[[ 0  1  2  3  4]\n",
            "  [ 5  6  7  8  9]]\n",
            "\n",
            " [[10 11 12 13 14]\n",
            "  [15 16 17 18 19]]\n",
            "\n",
            " [[20 21 22 23 24]\n",
            "  [25 26 27 28 29]]], shape=(3, 2, 5), dtype=int32)\n"
          ]
        }
      ]
    },
    {
      "cell_type": "markdown",
      "source": [
        "## Convert Tensor to NumPy Array"
      ],
      "metadata": {
        "id": "uc3sT2D9oETH"
      }
    },
    {
      "cell_type": "code",
      "source": [
        "# Convert tensor to NumPy array\n",
        "numpy_array = matrix.numpy()\n",
        "print(\"NumPy Array:\\n\", numpy_array)"
      ],
      "metadata": {
        "colab": {
          "base_uri": "https://localhost:8080/"
        },
        "id": "_kW_hBymoABe",
        "outputId": "65ee04a4-c07c-48cc-8db4-aa84b461acd3"
      },
      "execution_count": null,
      "outputs": [
        {
          "output_type": "stream",
          "name": "stdout",
          "text": [
            "NumPy Array:\n",
            " [[1 2 3]\n",
            " [4 5 6]]\n"
          ]
        }
      ]
    },
    {
      "cell_type": "markdown",
      "source": [
        "# Basic Math Operations"
      ],
      "metadata": {
        "id": "LfH67MMToJB5"
      }
    },
    {
      "cell_type": "markdown",
      "source": [
        "## Addition"
      ],
      "metadata": {
        "id": "Ob8zpVUEoK2Q"
      }
    },
    {
      "cell_type": "code",
      "source": [
        "a = tf.constant([2, 3])\n",
        "b = tf.constant([4, 5])\n",
        "\n",
        "# Addition\n",
        "add_result = a + b\n",
        "print(\"Addition:\", add_result.numpy())"
      ],
      "metadata": {
        "colab": {
          "base_uri": "https://localhost:8080/"
        },
        "id": "yCl4jUVToGEQ",
        "outputId": "9384fb07-a0ff-428f-ee5a-b0d6d6f2f775"
      },
      "execution_count": null,
      "outputs": [
        {
          "output_type": "stream",
          "name": "stdout",
          "text": [
            "Addition: [6 8]\n"
          ]
        }
      ]
    },
    {
      "cell_type": "markdown",
      "source": [
        "## Element-wise Multiplication"
      ],
      "metadata": {
        "id": "OrtGjkqNoZVP"
      }
    },
    {
      "cell_type": "code",
      "source": [
        "a = tf.constant([2, 3])\n",
        "b = tf.constant([4, 5])\n",
        "\n",
        "# Element-wise Multiplication\n",
        "mul_result = a * b\n",
        "print(\"Element-wise Multiplication:\", mul_result.numpy())\n",
        "\n"
      ],
      "metadata": {
        "colab": {
          "base_uri": "https://localhost:8080/"
        },
        "id": "GSemeFBXoTTz",
        "outputId": "ecaee72b-f1f7-4d0c-f37b-2f07987d4ac4"
      },
      "execution_count": null,
      "outputs": [
        {
          "output_type": "stream",
          "name": "stdout",
          "text": [
            "Element-wise Multiplication: [ 8 15]\n"
          ]
        }
      ]
    },
    {
      "cell_type": "markdown",
      "source": [
        "## Matrix Multiplication"
      ],
      "metadata": {
        "id": "TbSqS7YnobrL"
      }
    },
    {
      "cell_type": "code",
      "source": [
        "# Matrix Multiplication\n",
        "A = tf.constant([[1, 2], [3, 4]])\n",
        "B = tf.constant([[5, 6], [7, 8]])\n",
        "\n",
        "matmul_result = tf.matmul(A, B)\n",
        "print(\"Matrix Multiplication:\\n\", matmul_result.numpy())"
      ],
      "metadata": {
        "colab": {
          "base_uri": "https://localhost:8080/"
        },
        "id": "jJb5QlTboWo2",
        "outputId": "41a20085-d1db-40d9-e303-a669c9f9f512"
      },
      "execution_count": null,
      "outputs": [
        {
          "output_type": "stream",
          "name": "stdout",
          "text": [
            "Matrix Multiplication:\n",
            " [[19 22]\n",
            " [43 50]]\n"
          ]
        }
      ]
    },
    {
      "cell_type": "markdown",
      "source": [
        "# Math Functions"
      ],
      "metadata": {
        "id": "9ue1MXSBoqFg"
      }
    },
    {
      "cell_type": "code",
      "source": [
        "# Create a sample tensor with float32 data type\n",
        "tensor = tf.constant([[3, 7, 1], [10, 5, 8]], dtype=tf.float32)\n",
        "\n",
        "# Max value in the tensor\n",
        "max_value = tf.reduce_max(tensor)\n",
        "print(\"Max Value:\", max_value.numpy())\n",
        "\n",
        "\n"
      ],
      "metadata": {
        "colab": {
          "base_uri": "https://localhost:8080/"
        },
        "id": "vcNjZzuFosl4",
        "outputId": "1fc6f9a5-583c-4c2d-c791-bf4dcd36d828"
      },
      "execution_count": null,
      "outputs": [
        {
          "output_type": "stream",
          "name": "stdout",
          "text": [
            "Max Value: 10.0\n"
          ]
        }
      ]
    },
    {
      "cell_type": "code",
      "source": [
        "# Index of max values (argmax)\n",
        "argmax_value = tf.argmax(tensor, axis=1)  # Find max indices along axis-1 (rows)\n",
        "print(\"Argmax (Max indices per row):\", argmax_value.numpy())\n",
        "\n"
      ],
      "metadata": {
        "colab": {
          "base_uri": "https://localhost:8080/"
        },
        "id": "XglhqwJBpE3z",
        "outputId": "c8e52a91-c8a6-477c-863d-a2237823e531"
      },
      "execution_count": null,
      "outputs": [
        {
          "output_type": "stream",
          "name": "stdout",
          "text": [
            "Argmax (Max indices per row): [1 0]\n"
          ]
        }
      ]
    },
    {
      "cell_type": "code",
      "source": [
        "# Softmax function (for probability distribution)\n",
        "softmax_result = tf.nn.softmax(tensor)\n",
        "print(\"Softmax Result:\\n\", softmax_result.numpy())"
      ],
      "metadata": {
        "colab": {
          "base_uri": "https://localhost:8080/"
        },
        "id": "ah7dXhyopGhk",
        "outputId": "8bf4cbbc-d97b-49cc-92e4-74efe6b126e3"
      },
      "execution_count": null,
      "outputs": [
        {
          "output_type": "stream",
          "name": "stdout",
          "text": [
            "Softmax Result:\n",
            " [[0.01794253 0.9796292  0.00242826]\n",
            " [0.8756006  0.00589975 0.11849965]]\n"
          ]
        }
      ]
    },
    {
      "cell_type": "markdown",
      "source": [
        "# Tensor Indexing"
      ],
      "metadata": {
        "id": "STxMUvHTo5_h"
      }
    },
    {
      "cell_type": "markdown",
      "source": [
        "## Single-Axis Indexing\n"
      ],
      "metadata": {
        "id": "LB8WdmgIpMs-"
      }
    },
    {
      "cell_type": "code",
      "source": [
        "tensor = tf.constant([10, 20, 30, 40, 50])\n",
        "\n",
        "# Access elements\n",
        "print(\"First Element:\", tensor[0].numpy())\n",
        "print(\"Last Element:\", tensor[-1].numpy())"
      ],
      "metadata": {
        "colab": {
          "base_uri": "https://localhost:8080/"
        },
        "id": "UDbwS5d8pVuZ",
        "outputId": "296caed8-0007-4e15-f5bc-9544046dd063"
      },
      "execution_count": null,
      "outputs": [
        {
          "output_type": "stream",
          "name": "stdout",
          "text": [
            "First Element: 10\n",
            "Last Element: 50\n"
          ]
        }
      ]
    },
    {
      "cell_type": "markdown",
      "source": [
        "## Multi-Axis Indexing"
      ],
      "metadata": {
        "id": "JwMpWdnkpP1D"
      }
    },
    {
      "cell_type": "code",
      "source": [
        "# 2D Tensor\n",
        "matrix = tf.constant([[1, 2, 3], [4, 5, 6], [7, 8, 9]])\n",
        "\n",
        "# Access elements\n",
        "print(\"Element at (0,1):\", matrix[0, 1].numpy())  # Row 0, Column 1\n",
        "print(\"First row:\", matrix[0].numpy())  # Entire first row\n",
        "print(\"First column:\", matrix[:, 0].numpy())  # Entire first column"
      ],
      "metadata": {
        "colab": {
          "base_uri": "https://localhost:8080/"
        },
        "id": "EeIXRlpSpY7i",
        "outputId": "db4d4119-4c9a-4172-f882-15872a364e2c"
      },
      "execution_count": null,
      "outputs": [
        {
          "output_type": "stream",
          "name": "stdout",
          "text": [
            "Element at (0,1): 2\n",
            "First row: [1 2 3]\n",
            "First column: [1 4 7]\n"
          ]
        }
      ]
    },
    {
      "cell_type": "markdown",
      "source": [
        "# Manipulating Shapes"
      ],
      "metadata": {
        "id": "MJA53W970P_0"
      }
    },
    {
      "cell_type": "code",
      "source": [
        "# Create tensor\n",
        "tensor = tf.constant([[1, 2, 3], [4, 5, 6]])\n",
        "\n",
        "# Reshape\n",
        "reshaped_tensor = tf.reshape(tensor, (3, 2))\n",
        "print(\"Reshaped Tensor:\\n\", reshaped_tensor.numpy())\n",
        "\n",
        "# Expand Dimensions\n",
        "expanded_tensor = tf.expand_dims(tensor, axis=0)\n",
        "print(\"Expanded Tensor Shape:\", expanded_tensor.shape)\n",
        "\n",
        "# Squeeze (Remove dimensions of size 1)\n",
        "squeezed_tensor = tf.squeeze(expanded_tensor)\n",
        "print(\"Squeezed Tensor Shape:\", squeezed_tensor.shape)\n"
      ],
      "metadata": {
        "colab": {
          "base_uri": "https://localhost:8080/"
        },
        "id": "JyU8CZHR0TZj",
        "outputId": "a5ce3aaa-c160-455a-ebf3-219b3bce0173"
      },
      "execution_count": null,
      "outputs": [
        {
          "output_type": "stream",
          "name": "stdout",
          "text": [
            "Reshaped Tensor:\n",
            " [[1 2]\n",
            " [3 4]\n",
            " [5 6]]\n",
            "Expanded Tensor Shape: (1, 2, 3)\n",
            "Squeezed Tensor Shape: (2, 3)\n"
          ]
        }
      ]
    },
    {
      "cell_type": "markdown",
      "source": [
        "# DTypes in TensorFlow"
      ],
      "metadata": {
        "id": "MhC4fz7W0e8Z"
      }
    },
    {
      "cell_type": "code",
      "source": [
        "# Different Data Types\n",
        "int_tensor = tf.constant([1, 2, 3], dtype=tf.int32)\n",
        "float_tensor = tf.constant([1.1, 2.2, 3.3], dtype=tf.float32)\n",
        "\n",
        "# Convert Data Type\n",
        "converted_tensor = tf.cast(int_tensor, dtype=tf.float32)\n",
        "print(\"Converted Tensor DType:\", converted_tensor.dtype)\n"
      ],
      "metadata": {
        "colab": {
          "base_uri": "https://localhost:8080/"
        },
        "id": "nThlP0JP0hdV",
        "outputId": "537a2265-a05a-4894-b8ca-3add718a65f6"
      },
      "execution_count": null,
      "outputs": [
        {
          "output_type": "stream",
          "name": "stdout",
          "text": [
            "Converted Tensor DType: <dtype: 'float32'>\n"
          ]
        }
      ]
    },
    {
      "cell_type": "markdown",
      "source": [
        "# Broadcasting"
      ],
      "metadata": {
        "id": "lKwGC6Vn0puf"
      }
    },
    {
      "cell_type": "code",
      "source": [
        "# Create tensors of different shapes\n",
        "A = tf.constant([[1, 2, 3], [4, 5, 6]])\n",
        "B = tf.constant([[1], [2]])  # Shape (2,1)\n",
        "\n",
        "# Broadcasted Addition\n",
        "result = A + B\n",
        "print(\"Broadcasted Result:\\n\", result.numpy())\n"
      ],
      "metadata": {
        "colab": {
          "base_uri": "https://localhost:8080/"
        },
        "id": "FYLXRZcD0rj9",
        "outputId": "f731ade6-44ed-401c-e987-890491011f6a"
      },
      "execution_count": null,
      "outputs": [
        {
          "output_type": "stream",
          "name": "stdout",
          "text": [
            "Broadcasted Result:\n",
            " [[2 3 4]\n",
            " [6 7 8]]\n"
          ]
        }
      ]
    },
    {
      "cell_type": "markdown",
      "source": [
        "# Convert NumPy to Tensor"
      ],
      "metadata": {
        "id": "lYuL379H0vwd"
      }
    },
    {
      "cell_type": "code",
      "source": [
        "import numpy as np # import numpy and give it the alias 'np'\n",
        "\n",
        "# Convert NumPy array to Tensor\n",
        "numpy_array = np.array([10, 20, 30])\n",
        "tensor = tf.convert_to_tensor(numpy_array)\n",
        "print(\"Converted Tensor:\", tensor.numpy())"
      ],
      "metadata": {
        "colab": {
          "base_uri": "https://localhost:8080/"
        },
        "id": "gNM2spPf0yPG",
        "outputId": "58c80ccc-2e5e-46f4-9780-47ed19b561ec"
      },
      "execution_count": null,
      "outputs": [
        {
          "output_type": "stream",
          "name": "stdout",
          "text": [
            "Converted Tensor: [10 20 30]\n"
          ]
        }
      ]
    },
    {
      "cell_type": "markdown",
      "source": [
        "# Ragged Tensor"
      ],
      "metadata": {
        "id": "pSYxi2nL1ETN"
      }
    },
    {
      "cell_type": "code",
      "source": [
        "# Create a Ragged Tensor\n",
        "ragged_tensor = tf.ragged.constant([[1, 2, 3], [4, 5], [6]])\n",
        "print(\"Ragged Tensor:\\n\", ragged_tensor)\n"
      ],
      "metadata": {
        "colab": {
          "base_uri": "https://localhost:8080/"
        },
        "id": "dcv9q4Nw09ie",
        "outputId": "072f40de-91af-497d-e066-375f9cfc6250"
      },
      "execution_count": null,
      "outputs": [
        {
          "output_type": "stream",
          "name": "stdout",
          "text": [
            "Ragged Tensor:\n",
            " <tf.RaggedTensor [[1, 2, 3], [4, 5], [6]]>\n"
          ]
        }
      ]
    },
    {
      "cell_type": "markdown",
      "source": [
        "# String Tensor"
      ],
      "metadata": {
        "id": "wfWDl5HN1HZz"
      }
    },
    {
      "cell_type": "code",
      "source": [
        "# String Tensor\n",
        "string_tensor = tf.constant([\"Hello\", \"TensorFlow\", \"World\"])\n",
        "\n",
        "# String operations\n",
        "joined_string = tf.strings.join([\"Hello\", \" \", \"World\"])\n",
        "print(\"Joined String:\", joined_string.numpy().decode('utf-8'))\n"
      ],
      "metadata": {
        "colab": {
          "base_uri": "https://localhost:8080/"
        },
        "id": "HYB949SI1AP4",
        "outputId": "f3304e7d-9eab-438f-c124-7dde9c90595d"
      },
      "execution_count": null,
      "outputs": [
        {
          "output_type": "stream",
          "name": "stdout",
          "text": [
            "Joined String: Hello World\n"
          ]
        }
      ]
    },
    {
      "cell_type": "markdown",
      "source": [
        "# Sparse Tensor"
      ],
      "metadata": {
        "id": "S7O0nafg1KFX"
      }
    },
    {
      "cell_type": "code",
      "source": [
        "# Create a Sparse Tensor\n",
        "sparse_tensor = tf.sparse.SparseTensor(indices=[[0, 0], [1, 2]], values=[1, 2], dense_shape=[3, 4])\n",
        "\n",
        "# Convert to Dense Tensor\n",
        "dense_tensor = tf.sparse.to_dense(sparse_tensor)\n",
        "print(\"Sparse Tensor:\\n\", sparse_tensor)\n",
        "print(\"Dense Tensor:\\n\", dense_tensor.numpy())\n"
      ],
      "metadata": {
        "colab": {
          "base_uri": "https://localhost:8080/"
        },
        "id": "CsUCm3h31CZJ",
        "outputId": "a2e544d3-cc13-4bb0-ac09-fa7b4ea0d0b2"
      },
      "execution_count": null,
      "outputs": [
        {
          "output_type": "stream",
          "name": "stdout",
          "text": [
            "Sparse Tensor:\n",
            " SparseTensor(indices=tf.Tensor(\n",
            "[[0 0]\n",
            " [1 2]], shape=(2, 2), dtype=int64), values=tf.Tensor([1 2], shape=(2,), dtype=int32), dense_shape=tf.Tensor([3 4], shape=(2,), dtype=int64))\n",
            "Dense Tensor:\n",
            " [[1 0 0 0]\n",
            " [0 0 2 0]\n",
            " [0 0 0 0]]\n"
          ]
        }
      ]
    },
    {
      "cell_type": "markdown",
      "source": [
        "Summary:\n",
        "\n",
        "*  Shapes:\ttensor.shape\n",
        "\n",
        "*  Indexing:\ttensor[row, col]\n",
        "\n",
        "*  Math Operations:\t+, *, tf.matmul()\n",
        "\n",
        "*  Math Functions:\ttf.reduce_max(), tf.argmax(), tf.nn.softmax()\n",
        "\n",
        "*  Manipulating Shapes:\ttf.reshape(), tf.expand_dims(), tf.squeeze()\n",
        "\n",
        "*  DTypes:\ttf.cast()\n",
        "\n",
        "*  Broadcasting\tArithmetic on different shapes\n",
        "\n",
        "* Convert to Tensor\ttf.convert_to_tensor()\n",
        "* Ragged Tensors:\ttf.ragged.constant()\n",
        "* String Tensors:\ttf.strings.join()\n",
        "* Sparse Tensors:\ttf.sparse.SparseTensor(), tf.sparse.to_dense()"
      ],
      "metadata": {
        "id": "xhSbNflk1iYH"
      }
    },
    {
      "cell_type": "markdown",
      "source": [
        "# Advanced / Additional Tensor Operations"
      ],
      "metadata": {
        "id": "znVIvwu2cZS9"
      }
    },
    {
      "cell_type": "markdown",
      "source": [
        "# Tensor Reshaping and Slicing\n"
      ],
      "metadata": {
        "id": "5Q9QoXV5cjNy"
      }
    },
    {
      "cell_type": "code",
      "source": [
        "# Install TensorFlow if needed\n",
        "!pip install tensorflow --quiet\n",
        "\n",
        "# Import TensorFlow\n",
        "import tensorflow as tf"
      ],
      "metadata": {
        "id": "uT8A4vKbcwBi"
      },
      "execution_count": 2,
      "outputs": []
    },
    {
      "cell_type": "code",
      "source": [
        "# Create a 2D tensor\n",
        "tensor_2d = tf.constant([[1, 2, 3], [4, 5, 6]])\n",
        "\n",
        "# Reshape the tensor\n",
        "reshaped_tensor = tf.reshape(tensor_2d, [3, 2])\n",
        "print(\"Reshaped Tensor:\\n\", reshaped_tensor.numpy())\n",
        "\n",
        "# Slicing the tensor\n",
        "sliced_tensor = tensor_2d[:, 1]\n",
        "print(\"Sliced Tensor:\", sliced_tensor.numpy())\n"
      ],
      "metadata": {
        "colab": {
          "base_uri": "https://localhost:8080/"
        },
        "id": "rbI5Ue67ceNe",
        "outputId": "e77fd280-ac57-45a0-e402-9b7637f54a5a"
      },
      "execution_count": 3,
      "outputs": [
        {
          "output_type": "stream",
          "name": "stdout",
          "text": [
            "Reshaped Tensor:\n",
            " [[1 2]\n",
            " [3 4]\n",
            " [5 6]]\n",
            "Sliced Tensor: [2 5]\n"
          ]
        }
      ]
    },
    {
      "cell_type": "markdown",
      "source": [
        "# Advanced Tensor Algebra with Einsum"
      ],
      "metadata": {
        "id": "p5Sn19LKc3T-"
      }
    },
    {
      "cell_type": "code",
      "source": [
        "# Define two matrices\n",
        "A = tf.constant([[1, 2], [3, 4]])\n",
        "B = tf.constant([[5, 6], [7, 8]])\n",
        "\n",
        "# Perform matrix multiplication using einsum\n",
        "result = tf.einsum('ij,jk->ik', A, B)\n",
        "print(\"Result of Matrix Multiplication using einsum:\\n\", result.numpy())\n"
      ],
      "metadata": {
        "colab": {
          "base_uri": "https://localhost:8080/"
        },
        "id": "6GgIv2joc5Km",
        "outputId": "1298c5eb-71a0-468c-c3f5-0c8cc4ab96be"
      },
      "execution_count": 4,
      "outputs": [
        {
          "output_type": "stream",
          "name": "stdout",
          "text": [
            "Result of Matrix Multiplication using einsum:\n",
            " [[19 22]\n",
            " [43 50]]\n"
          ]
        }
      ]
    },
    {
      "cell_type": "markdown",
      "source": [
        "# Visualizing Tensors with Matplotlib"
      ],
      "metadata": {
        "id": "Yvkiq0WWc8LU"
      }
    },
    {
      "cell_type": "code",
      "source": [
        "import matplotlib.pyplot as plt\n",
        "\n",
        "# Create a random tensor\n",
        "tensor = tf.random.normal([10, 10])\n",
        "\n",
        "# Visualize the tensor as an image\n",
        "plt.imshow(tensor, cmap='viridis')\n",
        "plt.colorbar()\n",
        "plt.title('Visualization of a Random Tensor')\n",
        "plt.show()\n"
      ],
      "metadata": {
        "colab": {
          "base_uri": "https://localhost:8080/",
          "height": 452
        },
        "id": "ibvUaWzcc-SZ",
        "outputId": "8e9215d1-cbe3-4169-c346-0f4e41f1e8d9"
      },
      "execution_count": 5,
      "outputs": [
        {
          "output_type": "display_data",
          "data": {
            "text/plain": [
              "<Figure size 640x480 with 2 Axes>"
            ],
            "image/png": "[encoded data removed]"
          },
          "metadata": {}
        }
      ]
    },
    {
      "cell_type": "markdown",
      "source": [
        "# Ragged and Sparse Tensors"
      ],
      "metadata": {
        "id": "Q9sUrkkmdCPl"
      }
    },
    {
      "cell_type": "code",
      "source": [
        "# Create a ragged tensor\n",
        "ragged_tensor = tf.ragged.constant([[1, 2, 3], [4], [], [5, 6]])\n",
        "print(\"Ragged Tensor:\\n\", ragged_tensor)\n",
        "\n",
        "# Create a sparse tensor\n",
        "indices = [[0, 0], [1, 2]]  # Coordinates of non-zero elements\n",
        "values = [1, 2]             # Non-zero elements\n",
        "shape = [2, 3]              # Shape of the sparse tensor\n",
        "\n",
        "sparse_tensor = tf.sparse.SparseTensor(indices=indices, values=values, dense_shape=shape)\n",
        "dense_tensor = tf.sparse.to_dense(sparse_tensor)\n",
        "print(\"Sparse Tensor converted to Dense:\\n\", dense_tensor.numpy())\n"
      ],
      "metadata": {
        "colab": {
          "base_uri": "https://localhost:8080/"
        },
        "id": "fs8gZPjydEZZ",
        "outputId": "894101f7-d2f0-4759-b835-ad3b66a83c64"
      },
      "execution_count": 6,
      "outputs": [
        {
          "output_type": "stream",
          "name": "stdout",
          "text": [
            "Ragged Tensor:\n",
            " <tf.RaggedTensor [[1, 2, 3], [4], [], [5, 6]]>\n",
            "Sparse Tensor converted to Dense:\n",
            " [[1 0 0]\n",
            " [0 0 2]]\n"
          ]
        }
      ]
    },
    {
      "cell_type": "markdown",
      "source": [
        "# Interactive Tensor Manipulation with IPyWidgets"
      ],
      "metadata": {
        "id": "T5H2bvntdCFz"
      }
    },
    {
      "cell_type": "code",
      "source": [
        "import ipywidgets as widgets\n",
        "from IPython.display import display\n",
        "\n",
        "# Widget to change the shape of a tensor\n",
        "tensor = tf.constant([[1, 2, 3], [4, 5, 6]])\n",
        "\n",
        "def reshape_tensor(new_shape):\n",
        "    new_shape = tuple(map(int, new_shape.split(',')))\n",
        "    reshaped = tf.reshape(tensor, new_shape)\n",
        "    print(\"New Shape:\", reshaped.numpy())\n",
        "\n",
        "shape_input = widgets.Text(\n",
        "    value='3,2',\n",
        "    description='New Shape:',\n",
        "    continuous_update=False\n",
        ")\n",
        "\n",
        "widgets.interact(reshape_tensor, new_shape=shape_input)\n"
      ],
      "metadata": {
        "colab": {
          "base_uri": "https://localhost:8080/",
          "height": 187,
          "referenced_widgets": [
            "d3c9caddb61147a683ed2799841068d2",
            "7666028607854132bc50406a387cb3f6",
            "97258d7c32d942d88b31862363ac3578",
            "06a336e2e1734a6cbc5e681ad85f254e",
            "3679a9ea7b84458fb3de677bf8dc7ee6",
            "7e9f92bc371640a88bfd0caa04e9720a",
            "66f0cfefb0c140519a80e25d15f5134d"
          ]
        },
        "id": "U7CBBToHdI3T",
        "outputId": "1ba3c5a5-990c-4d87-a97a-2eb539d3a0d8"
      },
      "execution_count": 7,
      "outputs": [
        {
          "output_type": "display_data",
          "data": {
            "text/plain": [
              "interactive(children=(Text(value='3,2', continuous_update=False, description='New Shape:'), Output()), _dom_cl…"
            ],
            "application/vnd.jupyter.widget-view+json": {
              "version_major": 2,
              "version_minor": 0,
              "model_id": "d3c9caddb61147a683ed2799841068d2"
            }
          },
          "metadata": {}
        },
        {
          "output_type": "execute_result",
          "data": {
            "text/plain": [
              "<function __main__.reshape_tensor(new_shape)>"
            ],
            "text/html": [
              "<div style=\"max-width:800px; border: 1px solid var(--colab-border-color);\"><style>\n",
              "      pre.function-repr-contents {\n",
              "        overflow-x: auto;\n",
              "        padding: 8px 12px;\n",
              "        max-height: 500px;\n",
              "      }\n",
              "\n",
              "      pre.function-repr-contents.function-repr-contents-collapsed {\n",
              "        cursor: pointer;\n",
              "        max-height: 100px;\n",
              "      }\n",
              "    </style>\n",
              "    <pre style=\"white-space: initial; background:\n",
              "         var(--colab-secondary-surface-color); padding: 8px 12px;\n",
              "         border-bottom: 1px solid var(--colab-border-color);\"><b>reshape_tensor</b><br/>def reshape_tensor(new_shape)</pre><pre class=\"function-repr-contents function-repr-contents-collapsed\" style=\"\"><a class=\"filepath\" style=\"display:none\" href=\"#\">/content/&lt;ipython-input-7-e25fa8a4b6c8&gt;</a>&lt;no docstring&gt;</pre></div>"
            ]
          },
          "metadata": {},
          "execution_count": 7
        }
      ]
    }
  ]
}