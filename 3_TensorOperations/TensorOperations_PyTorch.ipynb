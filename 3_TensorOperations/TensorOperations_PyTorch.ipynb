{
  "nbformat": 4,
  "nbformat_minor": 0,
  "metadata": {
    "colab": {
      "provenance": []
    },
    "kernelspec": {
      "name": "python3",
      "display_name": "Python 3"
    },
    "language_info": {
      "name": "python"
    }
  },
  "cells": [
    {
      "cell_type": "markdown",
      "source": [
        "# Setup"
      ],
      "metadata": {
        "id": "DmsRnMRpuDGh"
      }
    },
    {
      "cell_type": "code",
      "execution_count": 13,
      "metadata": {
        "colab": {
          "base_uri": "https://localhost:8080/"
        },
        "id": "iSJTcoX0nTKI",
        "outputId": "3c5e06db-d7a6-4eb3-d229-cc496a4cd159"
      },
      "outputs": [
        {
          "output_type": "stream",
          "name": "stdout",
          "text": [
            "PyTorch Version: 2.5.1+cu124\n"
          ]
        }
      ],
      "source": [
        "# Install PyTorch (if needed)\n",
        "!pip install torch --quiet\n",
        "\n",
        "# Import PyTorch\n",
        "import torch\n",
        "import numpy as np\n",
        "\n",
        "# Check PyTorch version\n",
        "print(\"PyTorch Version:\", torch.__version__)\n"
      ]
    },
    {
      "cell_type": "markdown",
      "source": [
        "# Creating Tensors"
      ],
      "metadata": {
        "id": "B5VY_x9fuHDC"
      }
    },
    {
      "cell_type": "code",
      "source": [
        "# Scalar (Rank-0)\n",
        "scalar = torch.tensor(42)\n",
        "print(\"Scalar:\", scalar)\n",
        "\n",
        "# Vector (Rank-1)\n",
        "vector = torch.tensor([1, 2, 3])\n",
        "print(\"Vector:\", vector)\n",
        "\n",
        "# Matrix (Rank-2)\n",
        "matrix = torch.tensor([[1, 2], [3, 4]])\n",
        "print(\"Matrix:\\n\", matrix)\n",
        "\n",
        "# Higher-dimensional Tensor (Rank-3)\n",
        "tensor_3d = torch.tensor([[[1, 2], [3, 4]], [[5, 6], [7, 8]]])\n",
        "print(\"3D Tensor:\\n\", tensor_3d)\n"
      ],
      "metadata": {
        "colab": {
          "base_uri": "https://localhost:8080/"
        },
        "id": "l1FGRrQCuLrl",
        "outputId": "b02d02b2-1414-4f61-943c-f8d2c2bbaf60"
      },
      "execution_count": 2,
      "outputs": [
        {
          "output_type": "stream",
          "name": "stdout",
          "text": [
            "Scalar: tensor(42)\n",
            "Vector: tensor([1, 2, 3])\n",
            "Matrix:\n",
            " tensor([[1, 2],\n",
            "        [3, 4]])\n",
            "3D Tensor:\n",
            " tensor([[[1, 2],\n",
            "         [3, 4]],\n",
            "\n",
            "        [[5, 6],\n",
            "         [7, 8]]])\n"
          ]
        }
      ]
    },
    {
      "cell_type": "markdown",
      "source": [
        "# Tensor Properties"
      ],
      "metadata": {
        "id": "m4QVi_ghuO-C"
      }
    },
    {
      "cell_type": "code",
      "source": [
        "print(\"Tensor Shape:\", matrix.shape)\n",
        "print(\"Tensor Data Type:\", matrix.dtype)\n",
        "print(\"Tensor Device:\", matrix.device)  # CPU/GPU\n"
      ],
      "metadata": {
        "colab": {
          "base_uri": "https://localhost:8080/"
        },
        "id": "Ke6oEoHVuRS5",
        "outputId": "2a36411e-4d5c-4480-abb8-7842863063f6"
      },
      "execution_count": 3,
      "outputs": [
        {
          "output_type": "stream",
          "name": "stdout",
          "text": [
            "Tensor Shape: torch.Size([2, 2])\n",
            "Tensor Data Type: torch.int64\n",
            "Tensor Device: cpu\n"
          ]
        }
      ]
    },
    {
      "cell_type": "markdown",
      "source": [
        "# Math Operations"
      ],
      "metadata": {
        "id": "3cUGLJPeuUSG"
      }
    },
    {
      "cell_type": "code",
      "source": [
        "# Define tensors\n",
        "a = torch.tensor([2, 3])\n",
        "b = torch.tensor([4, 5])\n",
        "\n",
        "# Addition\n",
        "add_result = a + b\n",
        "print(\"Addition:\", add_result)\n",
        "\n",
        "\n"
      ],
      "metadata": {
        "colab": {
          "base_uri": "https://localhost:8080/"
        },
        "id": "9_ozbv5FuWFZ",
        "outputId": "11a66c10-d612-48aa-c37f-0b8d72f34ec2"
      },
      "execution_count": 4,
      "outputs": [
        {
          "output_type": "stream",
          "name": "stdout",
          "text": [
            "Addition: tensor([6, 8])\n"
          ]
        }
      ]
    },
    {
      "cell_type": "code",
      "source": [
        "# Element-wise Multiplication\n",
        "mul_result = a * b\n",
        "print(\"Element-wise Multiplication:\", mul_result)\n",
        "\n"
      ],
      "metadata": {
        "colab": {
          "base_uri": "https://localhost:8080/"
        },
        "id": "FPcEgyNLuYRq",
        "outputId": "80527c59-be8b-4354-aae2-6e7aaa9ceb0d"
      },
      "execution_count": 5,
      "outputs": [
        {
          "output_type": "stream",
          "name": "stdout",
          "text": [
            "Element-wise Multiplication: tensor([ 8, 15])\n"
          ]
        }
      ]
    },
    {
      "cell_type": "code",
      "source": [
        "# Matrix Multiplication\n",
        "A = torch.tensor([[1, 2], [3, 4]])\n",
        "B = torch.tensor([[5, 6], [7, 8]])\n",
        "\n",
        "matmul_result = torch.matmul(A, B)\n",
        "print(\"Matrix Multiplication:\\n\", matmul_result)"
      ],
      "metadata": {
        "colab": {
          "base_uri": "https://localhost:8080/"
        },
        "id": "smYseeyGuaC9",
        "outputId": "4129531d-1aed-4147-ac72-0310eac77a70"
      },
      "execution_count": 6,
      "outputs": [
        {
          "output_type": "stream",
          "name": "stdout",
          "text": [
            "Matrix Multiplication:\n",
            " tensor([[19, 22],\n",
            "        [43, 50]])\n"
          ]
        }
      ]
    },
    {
      "cell_type": "markdown",
      "source": [
        "# Indexing and Slicing"
      ],
      "metadata": {
        "id": "sDIrabLbudo3"
      }
    },
    {
      "cell_type": "code",
      "source": [
        "tensor = torch.tensor([[1, 2, 3], [4, 5, 6], [7, 8, 9]])\n",
        "\n",
        "# Single element access\n",
        "print(\"Element at (0,1):\", tensor[0, 1])\n",
        "\n",
        "# Slicing\n",
        "print(\"First row:\", tensor[0])\n",
        "print(\"First column:\", tensor[:, 0])\n",
        "print(\"Last column:\", tensor[:, -1])\n"
      ],
      "metadata": {
        "colab": {
          "base_uri": "https://localhost:8080/"
        },
        "id": "MxDLqS2luh0d",
        "outputId": "cabb8dde-4640-4235-a410-47d51adfe210"
      },
      "execution_count": 7,
      "outputs": [
        {
          "output_type": "stream",
          "name": "stdout",
          "text": [
            "Element at (0,1): tensor(2)\n",
            "First row: tensor([1, 2, 3])\n",
            "First column: tensor([1, 4, 7])\n",
            "Last column: tensor([3, 6, 9])\n"
          ]
        }
      ]
    },
    {
      "cell_type": "markdown",
      "source": [
        "# Reshaping and Transposing"
      ],
      "metadata": {
        "id": "DtFDzT9xuitx"
      }
    },
    {
      "cell_type": "code",
      "source": [
        "# Reshape\n",
        "reshaped = tensor.view(1, 9)  # Reshape to (1,9)\n",
        "print(\"Reshaped Tensor:\\n\", reshaped)\n",
        "\n"
      ],
      "metadata": {
        "colab": {
          "base_uri": "https://localhost:8080/"
        },
        "id": "uiagszkbusfG",
        "outputId": "1859a2f6-8de5-46f4-bdfa-cffb03cd65d8"
      },
      "execution_count": 8,
      "outputs": [
        {
          "output_type": "stream",
          "name": "stdout",
          "text": [
            "Reshaped Tensor:\n",
            " tensor([[1, 2, 3, 4, 5, 6, 7, 8, 9]])\n"
          ]
        }
      ]
    },
    {
      "cell_type": "code",
      "source": [
        "# Transpose\n",
        "transposed = tensor.T\n",
        "print(\"Transposed Tensor:\\n\", transposed)\n"
      ],
      "metadata": {
        "colab": {
          "base_uri": "https://localhost:8080/"
        },
        "id": "e7sasaZluvcZ",
        "outputId": "c6fc9d7c-1b8b-4e1c-9075-fe1f613619af"
      },
      "execution_count": 9,
      "outputs": [
        {
          "output_type": "stream",
          "name": "stdout",
          "text": [
            "Transposed Tensor:\n",
            " tensor([[1, 4, 7],\n",
            "        [2, 5, 8],\n",
            "        [3, 6, 9]])\n"
          ]
        }
      ]
    },
    {
      "cell_type": "markdown",
      "source": [
        "# Broadcasting"
      ],
      "metadata": {
        "id": "sz8lKMutu0c5"
      }
    },
    {
      "cell_type": "code",
      "source": [
        "# Create tensors with different shapes\n",
        "A = torch.tensor([[1, 2, 3], [4, 5, 6]])\n",
        "B = torch.tensor([[1], [2]])  # Shape (2,1)\n",
        "\n",
        "# Broadcasted Addition\n",
        "broadcasted_result = A + B\n",
        "print(\"Broadcasted Addition:\\n\", broadcasted_result)\n"
      ],
      "metadata": {
        "colab": {
          "base_uri": "https://localhost:8080/"
        },
        "id": "6g1k1c0lu3mV",
        "outputId": "1d446996-6ebd-4456-aac8-6b0b91f44cef"
      },
      "execution_count": 10,
      "outputs": [
        {
          "output_type": "stream",
          "name": "stdout",
          "text": [
            "Broadcasted Addition:\n",
            " tensor([[2, 3, 4],\n",
            "        [6, 7, 8]])\n"
          ]
        }
      ]
    },
    {
      "cell_type": "markdown",
      "source": [
        "# PyTorch tensor to NumPy"
      ],
      "metadata": {
        "id": "jVNhdIKZu9eJ"
      }
    },
    {
      "cell_type": "code",
      "source": [
        "# Convert PyTorch tensor to NumPy\n",
        "np_array = matrix.numpy()\n",
        "print(\"NumPy Array:\\n\", np_array)\n",
        "\n",
        "# Convert NumPy array to PyTorch tensor\n",
        "torch_tensor = torch.from_numpy(np_array)\n",
        "print(\"Converted Tensor:\\n\", torch_tensor)\n"
      ],
      "metadata": {
        "colab": {
          "base_uri": "https://localhost:8080/"
        },
        "id": "XGXi2aEAu78_",
        "outputId": "c3c6d259-ff84-40eb-804d-0910e005b859"
      },
      "execution_count": 11,
      "outputs": [
        {
          "output_type": "stream",
          "name": "stdout",
          "text": [
            "NumPy Array:\n",
            " [[1 2]\n",
            " [3 4]]\n",
            "Converted Tensor:\n",
            " tensor([[1, 2],\n",
            "        [3, 4]])\n"
          ]
        }
      ]
    },
    {
      "cell_type": "markdown",
      "source": [
        "# Advanced Indexing and Slicing\n",
        "\n",
        "* Using boolean masks to filter tensors.\n",
        "* Combining slicing with steps (strides)."
      ],
      "metadata": {
        "id": "2If77A0Cgxei"
      }
    },
    {
      "cell_type": "code",
      "source": [
        "# Advanced Indexing\n",
        "x = torch.arange(10)\n",
        "indices = x > 5\n",
        "filtered_tensor = x[indices]\n",
        "print(\"Filtered Tensor with Boolean Mask:\", filtered_tensor)\n",
        "\n",
        "# Slicing with Steps\n",
        "stepped_tensor = x[0:10:2]\n",
        "print(\"Tensor with Steps:\", stepped_tensor)\n"
      ],
      "metadata": {
        "colab": {
          "base_uri": "https://localhost:8080/"
        },
        "id": "QkEus9IPgzrJ",
        "outputId": "c94725d6-576a-4007-96ff-45ca2cff37c0"
      },
      "execution_count": 14,
      "outputs": [
        {
          "output_type": "stream",
          "name": "stdout",
          "text": [
            "Filtered Tensor with Boolean Mask: tensor([6, 7, 8, 9])\n",
            "Tensor with Steps: tensor([0, 2, 4, 6, 8])\n"
          ]
        }
      ]
    },
    {
      "cell_type": "markdown",
      "source": [
        "# Einsum Operations\n",
        "PyTorch also supports einsum, which can be used for a variety of complex operations. Demonstrate its use for operations that are not straightforward with regular PyTorch functions."
      ],
      "metadata": {
        "id": "sfuaHbmXg_b5"
      }
    },
    {
      "cell_type": "code",
      "source": [
        "# Using einsum for batch matrix multiplication\n",
        "a = torch.rand(3, 2, 5)\n",
        "b = torch.rand(3, 5, 3)\n",
        "result = torch.einsum('bij,bjk->bik', a, b)\n",
        "print(\"Batch Matrix Multiplication Result:\\n\", result)\n"
      ],
      "metadata": {
        "colab": {
          "base_uri": "https://localhost:8080/"
        },
        "id": "-ux2yRiChB_x",
        "outputId": "3fd6be1e-99eb-4aa4-ab80-235b8c08d19c"
      },
      "execution_count": 15,
      "outputs": [
        {
          "output_type": "stream",
          "name": "stdout",
          "text": [
            "Batch Matrix Multiplication Result:\n",
            " tensor([[[0.9406, 1.6297, 0.4880],\n",
            "         [1.2577, 1.7154, 0.9461]],\n",
            "\n",
            "        [[1.6180, 1.8709, 2.0852],\n",
            "         [1.4070, 1.8733, 2.1393]],\n",
            "\n",
            "        [[1.1816, 1.1113, 1.6038],\n",
            "         [0.7130, 0.7089, 0.9607]]])\n"
          ]
        }
      ]
    },
    {
      "cell_type": "markdown",
      "source": [
        "# Visualizations\n",
        "\n",
        "Use matplotlib to visualize matrices or higher-dimensional data reductions.\n",
        "Visualize operations like tensor addition and multiplication to show how tensors interact."
      ],
      "metadata": {
        "id": "O449nBKIhFi5"
      }
    },
    {
      "cell_type": "code",
      "source": [
        "import matplotlib.pyplot as plt\n",
        "\n",
        "# Visualize a tensor as an image\n",
        "tensor = torch.randn(10, 10)\n",
        "plt.imshow(tensor, cmap='hot')\n",
        "plt.title('Random Tensor Visualization')\n",
        "plt.colorbar()\n",
        "plt.show()\n"
      ],
      "metadata": {
        "colab": {
          "base_uri": "https://localhost:8080/",
          "height": 452
        },
        "id": "i3blQupWhJG_",
        "outputId": "e6ca21aa-90ff-4adf-a791-f719b05527de"
      },
      "execution_count": 16,
      "outputs": [
        {
          "output_type": "display_data",
          "data": {
            "text/plain": [
              "<Figure size 640x480 with 2 Axes>"
            ],
            "image/png": "[encoded data removed]"
          },
          "metadata": {}
        }
      ]
    },
    {
      "cell_type": "markdown",
      "source": [
        "# Tensor Transformations and Manipulations\n",
        "\n",
        "* Tensor flattening and concatenation.\n",
        "* Using torch.roll and torch.flip for shifting and reversing tensors."
      ],
      "metadata": {
        "id": "9LJww7NphM4y"
      }
    },
    {
      "cell_type": "code",
      "source": [
        "# Flatten and Concatenate\n",
        "flat_tensor = tensor_3d.flatten()\n",
        "concat_tensor = torch.cat([tensor_3d, tensor_3d], dim=0)\n",
        "print(\"Flattened Tensor:\", flat_tensor)\n",
        "print(\"Concatenated Tensor:\\n\", concat_tensor)\n",
        "\n",
        "# Roll and Flip\n",
        "rolled_tensor = torch.roll(tensor_3d, shifts=1, dims=2)\n",
        "flipped_tensor = torch.flip(tensor_3d, dims=[1])\n",
        "print(\"Rolled Tensor:\\n\", rolled_tensor)\n",
        "print(\"Flipped Tensor:\\n\", flipped_tensor)\n"
      ],
      "metadata": {
        "colab": {
          "base_uri": "https://localhost:8080/"
        },
        "id": "JTjEporNhS1B",
        "outputId": "da4709f2-e695-4198-852e-5ae0a66c7f8f"
      },
      "execution_count": 17,
      "outputs": [
        {
          "output_type": "stream",
          "name": "stdout",
          "text": [
            "Flattened Tensor: tensor([1, 2, 3, 4, 5, 6, 7, 8])\n",
            "Concatenated Tensor:\n",
            " tensor([[[1, 2],\n",
            "         [3, 4]],\n",
            "\n",
            "        [[5, 6],\n",
            "         [7, 8]],\n",
            "\n",
            "        [[1, 2],\n",
            "         [3, 4]],\n",
            "\n",
            "        [[5, 6],\n",
            "         [7, 8]]])\n",
            "Rolled Tensor:\n",
            " tensor([[[2, 1],\n",
            "         [4, 3]],\n",
            "\n",
            "        [[6, 5],\n",
            "         [8, 7]]])\n",
            "Flipped Tensor:\n",
            " tensor([[[3, 4],\n",
            "         [1, 2]],\n",
            "\n",
            "        [[7, 8],\n",
            "         [5, 6]]])\n"
          ]
        }
      ]
    },
    {
      "cell_type": "markdown",
      "source": [
        "# Dynamic Computation\n",
        "PyTorch handles dynamic computation graphs by modifying tensors in-place and showing how it affects computations dynamically."
      ],
      "metadata": {
        "id": "mTIDKh07hXkM"
      }
    },
    {
      "cell_type": "code",
      "source": [
        "# In-place operations\n",
        "original_tensor = torch.tensor([1, 2, 3])\n",
        "original_tensor.add_(5)\n",
        "print(\"Tensor after In-place Addition:\", original_tensor)\n"
      ],
      "metadata": {
        "colab": {
          "base_uri": "https://localhost:8080/"
        },
        "id": "52fusPlZhauM",
        "outputId": "3511f5ff-6207-4d18-bb7c-0f35553a0deb"
      },
      "execution_count": 18,
      "outputs": [
        {
          "output_type": "stream",
          "name": "stdout",
          "text": [
            "Tensor after In-place Addition: tensor([6, 7, 8])\n"
          ]
        }
      ]
    },
    {
      "cell_type": "markdown",
      "source": [
        "# Reduction Operations in PyTorch"
      ],
      "metadata": {
        "id": "fGO9UtEzhi2P"
      }
    },
    {
      "cell_type": "markdown",
      "source": [
        "\n",
        "### Max and Argmax\n",
        "Max returns the maximum value, and Argmax returns the index of the maximum value along a specified dimension.\n"
      ],
      "metadata": {
        "id": "ToDmFNrkhhZI"
      }
    },
    {
      "cell_type": "code",
      "source": [
        "# Create a tensor\n",
        "tensor = torch.tensor([[1, 2, 3], [4, 5, 6], [7, 8, 9]])\n",
        "\n",
        "# Max operation\n",
        "max_value = torch.max(tensor)\n",
        "print(\"Maximum Value:\", max_value)\n",
        "\n",
        "# Max along a dimension (returns values and indices)\n",
        "max_values, max_indices = torch.max(tensor, dim=1)\n",
        "print(\"Max Values per Row:\", max_values)\n",
        "print(\"Indices of Max Values:\", max_indices)\n",
        "\n",
        "# Argmax operation\n",
        "argmax_index = torch.argmax(tensor)\n",
        "print(\"Index of Global Maximum Value:\", argmax_index)\n"
      ],
      "metadata": {
        "colab": {
          "base_uri": "https://localhost:8080/"
        },
        "id": "4ZCJZ9Mtho9d",
        "outputId": "c8966eae-8afa-4c14-d869-c711e2556b70"
      },
      "execution_count": 19,
      "outputs": [
        {
          "output_type": "stream",
          "name": "stdout",
          "text": [
            "Maximum Value: tensor(9)\n",
            "Max Values per Row: tensor([3, 6, 9])\n",
            "Indices of Max Values: tensor([2, 2, 2])\n",
            "Index of Global Maximum Value: tensor(8)\n"
          ]
        }
      ]
    },
    {
      "cell_type": "markdown",
      "source": [
        "### Sum\n",
        "Sum operation calculates the total of all elements in the tensor or along a specific dimension."
      ],
      "metadata": {
        "id": "CXNhP50-hslZ"
      }
    },
    {
      "cell_type": "code",
      "source": [
        "# Sum of all elements\n",
        "total_sum = torch.sum(tensor)\n",
        "print(\"Total Sum of Elements:\", total_sum)\n",
        "\n",
        "# Sum along a dimension\n",
        "sum_by_column = torch.sum(tensor, dim=0)\n",
        "print(\"Sum of Each Column:\", sum_by_column)\n"
      ],
      "metadata": {
        "id": "PuEkGqfHhubQ"
      },
      "execution_count": null,
      "outputs": []
    },
    {
      "cell_type": "markdown",
      "source": [
        "### Mean\n",
        "Mean operation calculates the average of elements across the entire tensor or along a particular dimension."
      ],
      "metadata": {
        "id": "_0QSVNVHhxAW"
      }
    },
    {
      "cell_type": "code",
      "source": [
        "# Mean of all elements\n",
        "mean_value = torch.mean(tensor.float())  # Type casting to float for mean calculation\n",
        "print(\"Mean Value:\", mean_value)\n",
        "\n",
        "# Mean along a dimension\n",
        "mean_by_row = torch.mean(tensor.float(), dim=1)\n",
        "print(\"Mean of Each Row:\", mean_by_row)\n"
      ],
      "metadata": {
        "colab": {
          "base_uri": "https://localhost:8080/"
        },
        "id": "BQeqQE7KhzlB",
        "outputId": "c348acee-314e-4b51-c457-b04680c51982"
      },
      "execution_count": 20,
      "outputs": [
        {
          "output_type": "stream",
          "name": "stdout",
          "text": [
            "Mean Value: tensor(5.)\n",
            "Mean of Each Row: tensor([2., 5., 8.])\n"
          ]
        }
      ]
    },
    {
      "cell_type": "code",
      "source": [
        "tensor = torch.tensor([[3, 7, 1], [10, 5, 8]])\n",
        "\n",
        "# Max value\n",
        "max_value = torch.max(tensor)\n",
        "print(\"Max Value:\", max_value)\n",
        "\n",
        "# Argmax (Index of max values)\n",
        "argmax_value = torch.argmax(tensor, dim=1)\n",
        "print(\"Argmax (Max indices per row):\", argmax_value)\n",
        "\n",
        "# Sum of elements\n",
        "sum_tensor = torch.sum(tensor)\n",
        "print(\"Sum of elements:\", sum_tensor)\n",
        "\n",
        "# Mean of elements\n",
        "mean_tensor = torch.mean(tensor.float())\n",
        "print(\"Mean of elements:\", mean_tensor)\n"
      ],
      "metadata": {
        "colab": {
          "base_uri": "https://localhost:8080/"
        },
        "id": "p9eeufChvGve",
        "outputId": "68e8f787-1c0a-4c40-f2e7-bc3bde73aa9f"
      },
      "execution_count": 12,
      "outputs": [
        {
          "output_type": "stream",
          "name": "stdout",
          "text": [
            "Max Value: tensor(10)\n",
            "Argmax (Max indices per row): tensor([1, 0])\n",
            "Sum of elements: tensor(34)\n",
            "Mean of elements: tensor(5.6667)\n"
          ]
        }
      ]
    },
    {
      "cell_type": "markdown",
      "source": [
        "# Element-wise Operations in PyTorch\n",
        "Element-wise operations perform operations on corresponding elements between tensors. Common operations include addition, subtraction, multiplication, and division."
      ],
      "metadata": {
        "id": "z3LLWdtBibh7"
      }
    },
    {
      "cell_type": "code",
      "source": [
        "# Create two tensors\n",
        "tensor_a = torch.tensor([1, 2, 3])\n",
        "tensor_b = torch.tensor([4, 5, 6])\n",
        "\n",
        "# Element-wise addition\n",
        "add_result = tensor_a + tensor_b\n",
        "print(\"Element-wise Addition:\", add_result)\n",
        "\n",
        "# Element-wise multiplication\n",
        "mul_result = tensor_a * tensor_b\n",
        "print(\"Element-wise Multiplication:\", mul_result)\n",
        "\n",
        "# Element-wise division\n",
        "div_result = tensor_a / tensor_b\n",
        "print(\"Element-wise Division:\", div_result)\n",
        "\n",
        "# Element-wise power\n",
        "pow_result = tensor_a ** tensor_b\n",
        "print(\"Element-wise Power:\", pow_result)\n"
      ],
      "metadata": {
        "colab": {
          "base_uri": "https://localhost:8080/"
        },
        "id": "vBtxKZghiYtj",
        "outputId": "706bae27-2540-41c2-c82d-2b731e6788b3"
      },
      "execution_count": 21,
      "outputs": [
        {
          "output_type": "stream",
          "name": "stdout",
          "text": [
            "Element-wise Addition: tensor([5, 7, 9])\n",
            "Element-wise Multiplication: tensor([ 4, 10, 18])\n",
            "Element-wise Division: tensor([0.2500, 0.4000, 0.5000])\n",
            "Element-wise Power: tensor([  1,  32, 729])\n"
          ]
        }
      ]
    },
    {
      "cell_type": "markdown",
      "source": [
        "# Matrix Operations in PyTorch\n",
        "Matrix operations include matrix multiplication, which is a fundamental operation in many deep learning algorithms."
      ],
      "metadata": {
        "id": "bsvWCGOYihgg"
      }
    },
    {
      "cell_type": "code",
      "source": [
        "# Create two 2D tensors (matrices)\n",
        "matrix_a = torch.tensor([[1, 2], [3, 4]])\n",
        "matrix_b = torch.tensor([[5, 6], [7, 8]])\n",
        "\n",
        "# Matrix multiplication\n",
        "mat_mul_result = torch.mm(matrix_a, matrix_b)\n",
        "print(\"Matrix Multiplication Result:\\n\", mat_mul_result)\n",
        "\n",
        "# Batch matrix multiplication for higher-dimensional tensors\n",
        "batch_a = torch.randn(3, 2, 5)\n",
        "batch_b = torch.randn(3, 5, 2)\n",
        "batch_mat_mul_result = torch.bmm(batch_a, batch_b)\n",
        "print(\"Batch Matrix Multiplication Result:\\n\", batch_mat_mul_result)\n",
        "\n",
        "# Dot product\n",
        "dot_product = torch.dot(tensor_a.flatten(), tensor_b.flatten())\n",
        "print(\"Dot Product:\", dot_product)\n"
      ],
      "metadata": {
        "colab": {
          "base_uri": "https://localhost:8080/"
        },
        "id": "uU6hpajZijUW",
        "outputId": "a7657669-4c4d-4faf-b413-32942ec2c183"
      },
      "execution_count": 22,
      "outputs": [
        {
          "output_type": "stream",
          "name": "stdout",
          "text": [
            "Matrix Multiplication Result:\n",
            " tensor([[19, 22],\n",
            "        [43, 50]])\n",
            "Batch Matrix Multiplication Result:\n",
            " tensor([[[-0.6305,  3.2451],\n",
            "         [ 5.6199,  1.2200]],\n",
            "\n",
            "        [[ 0.5977,  0.2325],\n",
            "         [ 0.9609,  1.2377]],\n",
            "\n",
            "        [[-0.2597, -2.3649],\n",
            "         [-1.6069, -0.1813]]])\n",
            "Dot Product: tensor(32)\n"
          ]
        }
      ]
    },
    {
      "cell_type": "markdown",
      "source": [
        "#Complex Matrix Functions\n",
        "PyTorch also supports more complex matrix operations, such as finding the determinant, inverse, and performing singular value decomposition (SVD)."
      ],
      "metadata": {
        "id": "-idoAS75inF7"
      }
    },
    {
      "cell_type": "code",
      "source": [
        "# Determinant of a matrix\n",
        "det_result = torch.det(matrix_a.float())  # Casting to float for operations requiring non-integer data\n",
        "print(\"Determinant of the Matrix:\", det_result)\n",
        "\n",
        "# Inverse of a matrix\n",
        "inverse_result = torch.inverse(matrix_a.float())\n",
        "print(\"Inverse of the Matrix:\\n\", inverse_result)\n",
        "\n",
        "# Singular Value Decomposition\n",
        "u, s, v = torch.svd(matrix_a.float())\n",
        "print(\"SVD - U Matrix:\\n\", u)\n",
        "print(\"SVD - Singular Values:\", s)\n",
        "print(\"SVD - V Matrix:\\n\", v)\n"
      ],
      "metadata": {
        "colab": {
          "base_uri": "https://localhost:8080/"
        },
        "id": "ReH8w-LHiqvx",
        "outputId": "d8de6a3d-cf62-4be7-d9e4-d8880e7dc324"
      },
      "execution_count": 23,
      "outputs": [
        {
          "output_type": "stream",
          "name": "stdout",
          "text": [
            "Determinant of the Matrix: tensor(-2.)\n",
            "Inverse of the Matrix:\n",
            " tensor([[-2.0000,  1.0000],\n",
            "        [ 1.5000, -0.5000]])\n",
            "SVD - U Matrix:\n",
            " tensor([[-0.4046, -0.9145],\n",
            "        [-0.9145,  0.4046]])\n",
            "SVD - Singular Values: tensor([5.4650, 0.3660])\n",
            "SVD - V Matrix:\n",
            " tensor([[-0.5760,  0.8174],\n",
            "        [-0.8174, -0.5760]])\n"
          ]
        }
      ]
    }
  ]
}